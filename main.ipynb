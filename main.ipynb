{
 "cells": [
  {
   "cell_type": "code",
   "execution_count": 3,
   "id": "15e04556",
   "metadata": {},
   "outputs": [],
   "source": [
    "from scipy.io.wavfile import read\n",
    "from sklearn.mixture import GaussianMixture\n",
    "import numpy as np\n",
    "import os\n",
    "import python_speech_features as mfcc\n",
    "from sklearn import preprocessing\n",
    "import matplotlib.pyplot as plt"
   ]
  },
  {
   "cell_type": "code",
   "execution_count": 131,
   "id": "7fb97409",
   "metadata": {},
   "outputs": [],
   "source": [
    "def extract_features(audio,rate):    \n",
    "    mfcc_feat = mfcc.mfcc(audio,rate, 0.025, 0.01, 20, appendEnergy = True, nfft=1800)\n",
    "    mfcc_feat = preprocessing.scale(mfcc_feat)\n",
    "    return mfcc_feat"
   ]
  },
  {
   "cell_type": "code",
   "execution_count": 132,
   "id": "d90dc7f5",
   "metadata": {
    "scrolled": true
   },
   "outputs": [
    {
     "name": "stdout",
     "output_type": "stream",
     "text": [
      "11960\n",
      "11960\n",
      "11960\n",
      "11960\n",
      "11960\n",
      "11960\n",
      "11960\n",
      "11960\n",
      "11960\n",
      "11960\n",
      "11960\n",
      "11960\n",
      "11960\n",
      "11960\n",
      "11960\n",
      "['antoine', 'antoine', 'antoine', 'antoine', 'antoine', 'paco', 'paco', 'paco', 'paco', 'paco', 'truc', 'truc', 'truc', 'truc', 'truc']\n"
     ]
    },
    {
     "data": {
      "text/plain": [
       "array([[-0.678682427800012, -0.3138569757125273, -0.08514722881367862,\n",
       "        ..., -0.3727876978505446, -0.7352418060741919,\n",
       "        0.7447938900089085],\n",
       "       [2.524057159429498, -1.6302028040524055, -1.1453181613896966, ...,\n",
       "        1.4588738134779138, 0.7442008366553566, 0.6955732716508966],\n",
       "       [-0.5260527927674861, -0.4233177333581853, -0.20713348764487505,\n",
       "        ..., 0.348551395813615, 0.589802971855856,\n",
       "        -0.0059191159723746105],\n",
       "       ...,\n",
       "       [-0.6673133690887102, -0.29763578014935044, 0.17267594667808528,\n",
       "        ..., -0.18931400800566953, 0.04432393384939595,\n",
       "        -0.8566772378430151],\n",
       "       [-0.5937378151518339, -0.5263872183877255, 0.15929198745898146,\n",
       "        ..., 0.9360734039783979, 0.3095193577008759, 0.18266775927529708],\n",
       "       [-0.6279653508814516, -0.7077083790140731, -0.3032595026432255,\n",
       "        ..., 0.8560883125642036, 0.18196890780218178,\n",
       "        -0.2667655915496102]], dtype=object)"
      ]
     },
     "execution_count": 132,
     "metadata": {},
     "output_type": "execute_result"
    }
   ],
   "source": [
    "names = [\"antoine\", \"paco\", \"truc\"]\n",
    "X = []\n",
    "Y = []\n",
    "for name in names :\n",
    "    source = f\"voice_database/{name}\"\n",
    "    for path in os.listdir(source):\n",
    "            path = os.path.join(source, path)\n",
    "\n",
    "            # reading audio files of speaker\n",
    "            (sr, audio) = read(path)\n",
    "            \n",
    "            # extract 40 dimensional MFCC\n",
    "            vector = extract_features(audio,sr)\n",
    "            vector = vector.flatten()\n",
    "            X.append(vector)\n",
    "            Y.append(name)\n",
    "            print(len(vector))\n",
    "print(Y)\n",
    "X = np.array(X, dtype=object)\n",
    "X"
   ]
  },
  {
   "cell_type": "code",
   "execution_count": 138,
   "id": "00df4bb5",
   "metadata": {},
   "outputs": [
    {
     "name": "stdout",
     "output_type": "stream",
     "text": [
      "Hello paco !\n"
     ]
    }
   ],
   "source": [
    "from sklearn.linear_model import LogisticRegression\n",
    "from sklearn import preprocessing\n",
    "le = preprocessing.LabelEncoder()\n",
    "le.fit(Y)\n",
    "Y_trans = le.transform(Y)\n",
    "clf = LogisticRegression(random_state=0).fit(X.tolist(), Y_trans)\n",
    "pred = clf.predict(X[8].reshape(1, -1))\n",
    "identified_as = le.inverse_transform(pred)[0]\n",
    "if identified_as not in names:\n",
    "    print(\"Unknown user\")\n",
    "else:\n",
    "    print(f\"Hello {identified_as} !\")"
   ]
  }
 ],
 "metadata": {
  "kernelspec": {
   "display_name": "Python 3 (ipykernel)",
   "language": "python",
   "name": "python3"
  },
  "language_info": {
   "codemirror_mode": {
    "name": "ipython",
    "version": 3
   },
   "file_extension": ".py",
   "mimetype": "text/x-python",
   "name": "python",
   "nbconvert_exporter": "python",
   "pygments_lexer": "ipython3",
   "version": "3.8.10"
  }
 },
 "nbformat": 4,
 "nbformat_minor": 5
}
