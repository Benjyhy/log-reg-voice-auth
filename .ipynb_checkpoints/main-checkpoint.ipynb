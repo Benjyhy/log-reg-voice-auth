{
 "cells": [
  {
   "cell_type": "code",
   "execution_count": 4,
   "id": "15e04556",
   "metadata": {},
   "outputs": [],
   "source": [
    "from scipy.io.wavfile import read\n",
    "from sklearn.mixture import GaussianMixture\n",
    "import numpy as np\n",
    "import os\n",
    "import python_speech_features as mfcc\n",
    "from sklearn import preprocessing"
   ]
  },
  {
   "cell_type": "code",
   "execution_count": 7,
   "id": "7fb97409",
   "metadata": {},
   "outputs": [],
   "source": [
    "def extract_features(audio,rate):    \n",
    "    mfcc_feat = mfcc.mfcc(audio,rate, 0.025, 0.01,20,appendEnergy = True, nfft=1103)\n",
    "    mfcc_feat = preprocessing.scale(mfcc_feat)\n",
    "    return mfcc_feat"
   ]
  },
  {
   "cell_type": "code",
   "execution_count": 47,
   "id": "d90dc7f5",
   "metadata": {
    "scrolled": true
   },
   "outputs": [
    {
     "name": "stdout",
     "output_type": "stream",
     "text": [
      "[-0.76002902 -0.2319537   0.08093776 -0.34871933 -0.1870698  -0.02614544\n",
      " -1.30661948 -0.32757461 -2.20952387 -0.97569796  0.21229725 -1.09381969\n",
      "  1.27660266 -0.03128077 -1.01650891 -0.60634733 -0.97827174  0.2909151\n",
      "  1.33733939  0.97703942]\n"
     ]
    }
   ],
   "source": [
    "names = [\"antoine\", \"paco\", \"truc\", \"unknown\"]\n",
    "X = np.array([])\n",
    "for name in names :\n",
    "    source = f\"voice_database/{name}\"\n",
    "    for path in os.listdir(source):\n",
    "            path = os.path.join(source, path)\n",
    "\n",
    "            # reading audio files of speaker\n",
    "            (sr, audio) = read(path)\n",
    "            \n",
    "            # extract 40 dimensional MFCC\n",
    "            vector   = extract_features(audio,sr)\n",
    "\n",
    "            if X.size == 0:\n",
    "                X = vector\n",
    "            else:\n",
    "                X = np.vstack((X, vector))\n",
    "print(X[1])"
   ]
  },
  {
   "cell_type": "code",
   "execution_count": 45,
   "id": "f3178f13",
   "metadata": {},
   "outputs": [
    {
     "name": "stdout",
     "output_type": "stream",
     "text": [
      "Initialization 0\n",
      "  Iteration 10\n",
      "  Iteration 20\n",
      "Initialization converged: True\n"
     ]
    },
    {
     "data": {
      "text/plain": [
       "array([0])"
      ]
     },
     "execution_count": 45,
     "metadata": {},
     "output_type": "execute_result"
    }
   ],
   "source": [
    "user = [[-0.76002902 -0.2319537   0.08093776 -0.34871933 -0.1870698  -0.02614544\n",
    " -1.30661948 -0.32757461 -2.20952387 -0.97569796  0.21229725 -1.09381969\n",
    "  1.27660266 -0.03128077 -1.01650891 -0.60634733 -0.97827174  0.2909151\n",
    "  1.33733939  0.97703942]]\n",
    "gm = GaussianMixture(n_components=len(names), random_state=0, covariance_type=\"spherical\", verbose=True).fit(X)\n",
    "gm.predict(X[3].reshape(1, -1))\n",
    "#len(gm.predict(X[1].reshape(1, -1)))"
   ]
  }
 ],
 "metadata": {
  "kernelspec": {
   "display_name": "Python 3 (ipykernel)",
   "language": "python",
   "name": "python3"
  },
  "language_info": {
   "codemirror_mode": {
    "name": "ipython",
    "version": 3
   },
   "file_extension": ".py",
   "mimetype": "text/x-python",
   "name": "python",
   "nbconvert_exporter": "python",
   "pygments_lexer": "ipython3",
   "version": "3.8.10"
  }
 },
 "nbformat": 4,
 "nbformat_minor": 5
}
